{
  "cells": [
    {
      "cell_type": "raw",
      "metadata": {
        "vscode": {
          "languageId": "raw"
        }
      },
      "source": [
        "# Real-World Robot Inference with LeRobot\n",
        "\n",
        "This notebook allows you to run inference with a pre-trained ACT policy on a real SO-100 robot.\n",
        "\n",
        "**Setup:**\n",
        "- SO-100 robot connected to `/dev/ttyACM0`\n",
        "- RealSense camera on `/dev/video0` (or fallback to OpenCV)\n",
        "- Pre-trained ACT policy from HuggingFace: `adungus/act_all`\n",
        "\n",
        "**Safety:** Make sure the robot workspace is clear before running inference!\n"
      ]
    },
    {
      "cell_type": "raw",
      "metadata": {
        "vscode": {
          "languageId": "raw"
        }
      },
      "source": [
        "## 1. Import Required Libraries\n"
      ]
    },
    {
      "cell_type": "code",
      "execution_count": 2,
      "metadata": {},
      "outputs": [
        {
          "name": "stdout",
          "output_type": "stream",
          "text": [
            "Collecting matplotlib\n",
            "  Downloading matplotlib-3.10.3-cp310-cp310-manylinux_2_17_x86_64.manylinux2014_x86_64.whl.metadata (11 kB)\n",
            "Collecting contourpy>=1.0.1 (from matplotlib)\n",
            "  Downloading contourpy-1.3.2-cp310-cp310-manylinux_2_17_x86_64.manylinux2014_x86_64.whl.metadata (5.5 kB)\n",
            "Collecting cycler>=0.10 (from matplotlib)\n",
            "  Downloading cycler-0.12.1-py3-none-any.whl.metadata (3.8 kB)\n",
            "Collecting fonttools>=4.22.0 (from matplotlib)\n",
            "  Downloading fonttools-4.59.0-cp310-cp310-manylinux2014_x86_64.manylinux_2_17_x86_64.whl.metadata (107 kB)\n",
            "Collecting kiwisolver>=1.3.1 (from matplotlib)\n",
            "  Downloading kiwisolver-1.4.8-cp310-cp310-manylinux_2_12_x86_64.manylinux2010_x86_64.whl.metadata (6.2 kB)\n",
            "Requirement already satisfied: numpy>=1.23 in /home/addverb-usa/miniconda3/envs/lerobot/lib/python3.10/site-packages (from matplotlib) (2.2.6)\n",
            "Requirement already satisfied: packaging>=20.0 in /home/addverb-usa/miniconda3/envs/lerobot/lib/python3.10/site-packages (from matplotlib) (25.0)\n",
            "Requirement already satisfied: pillow>=8 in /home/addverb-usa/miniconda3/envs/lerobot/lib/python3.10/site-packages (from matplotlib) (11.3.0)\n",
            "Collecting pyparsing>=2.3.1 (from matplotlib)\n",
            "  Downloading pyparsing-3.2.3-py3-none-any.whl.metadata (5.0 kB)\n",
            "Requirement already satisfied: python-dateutil>=2.7 in /home/addverb-usa/miniconda3/envs/lerobot/lib/python3.10/site-packages (from matplotlib) (2.9.0.post0)\n",
            "Requirement already satisfied: six>=1.5 in /home/addverb-usa/miniconda3/envs/lerobot/lib/python3.10/site-packages (from python-dateutil>=2.7->matplotlib) (1.17.0)\n",
            "Downloading matplotlib-3.10.3-cp310-cp310-manylinux_2_17_x86_64.manylinux2014_x86_64.whl (8.6 MB)\n",
            "\u001b[2K   \u001b[90m━━━━━━━━━━━━━━━━━━━━━━━━━━━━━━━━━━━━━━━━\u001b[0m \u001b[32m8.6/8.6 MB\u001b[0m \u001b[31m48.4 MB/s\u001b[0m eta \u001b[36m0:00:00\u001b[0m\n",
            "\u001b[?25hDownloading contourpy-1.3.2-cp310-cp310-manylinux_2_17_x86_64.manylinux2014_x86_64.whl (325 kB)\n",
            "Downloading cycler-0.12.1-py3-none-any.whl (8.3 kB)\n",
            "Downloading fonttools-4.59.0-cp310-cp310-manylinux2014_x86_64.manylinux_2_17_x86_64.whl (4.8 MB)\n",
            "\u001b[2K   \u001b[90m━━━━━━━━━━━━━━━━━━━━━━━━━━━━━━━━━━━━━━━━\u001b[0m \u001b[32m4.8/4.8 MB\u001b[0m \u001b[31m63.1 MB/s\u001b[0m eta \u001b[36m0:00:00\u001b[0m\n",
            "\u001b[?25hDownloading kiwisolver-1.4.8-cp310-cp310-manylinux_2_12_x86_64.manylinux2010_x86_64.whl (1.6 MB)\n",
            "\u001b[2K   \u001b[90m━━━━━━━━━━━━━━━━━━━━━━━━━━━━━━━━━━━━━━━━\u001b[0m \u001b[32m1.6/1.6 MB\u001b[0m \u001b[31m68.8 MB/s\u001b[0m eta \u001b[36m0:00:00\u001b[0m\n",
            "\u001b[?25hDownloading pyparsing-3.2.3-py3-none-any.whl (111 kB)\n",
            "Installing collected packages: pyparsing, kiwisolver, fonttools, cycler, contourpy, matplotlib\n",
            "\u001b[2K   \u001b[90m━━━━━━━━━━━━━━━━━━━━━━━━━━━━━━━━━━━━━━━━\u001b[0m \u001b[32m6/6\u001b[0m [matplotlib]6\u001b[0m [matplotlib]\n",
            "\u001b[1A\u001b[2KSuccessfully installed contourpy-1.3.2 cycler-0.12.1 fonttools-4.59.0 kiwisolver-1.4.8 matplotlib-3.10.3 pyparsing-3.2.3\n"
          ]
        },
        {
          "name": "stderr",
          "output_type": "stream",
          "text": [
            "/home/addverb-usa/miniconda3/envs/lerobot/lib/python3.10/site-packages/tqdm/auto.py:21: TqdmWarning: IProgress not found. Please update jupyter and ipywidgets. See https://ipywidgets.readthedocs.io/en/stable/user_install.html\n",
            "  from .autonotebook import tqdm as notebook_tqdm\n"
          ]
        },
        {
          "name": "stdout",
          "output_type": "stream",
          "text": [
            "✅ All libraries imported successfully!\n"
          ]
        }
      ],
      "source": [
        "!pip install matplotlib\n",
        "import logging\n",
        "import time\n",
        "import torch\n",
        "import numpy as np\n",
        "from pathlib import Path\n",
        "from typing import Dict, Any\n",
        "from IPython.display import display, clear_output\n",
        "import matplotlib.pyplot as plt\n",
        "\n",
        "from lerobot.cameras.opencv.configuration_opencv import OpenCVCameraConfig\n",
        "from lerobot.cameras.realsense.configuration_realsense import RealSenseCameraConfig\n",
        "from lerobot.robots.so100_follower import SO100Follower, SO100FollowerConfig\n",
        "from lerobot.policies.factory import make_policy\n",
        "from lerobot.configs.policies import PreTrainedConfig\n",
        "from lerobot.utils.control_utils import predict_action\n",
        "from lerobot.utils.utils import get_safe_torch_device\n",
        "from lerobot.datasets.utils import build_dataset_frame\n",
        "\n",
        "# Set up logging\n",
        "logging.basicConfig(level=logging.INFO)\n",
        "logger = logging.getLogger(__name__)\n",
        "\n",
        "print(\"✅ All libraries imported successfully!\")\n"
      ]
    },
    {
      "cell_type": "raw",
      "metadata": {
        "vscode": {
          "languageId": "raw"
        }
      },
      "source": [
        "## 2. Configuration\n",
        "\n",
        "Update these settings for your specific setup:\n"
      ]
    },
    {
      "cell_type": "code",
      "execution_count": 8,
      "metadata": {},
      "outputs": [
        {
          "name": "stdout",
          "output_type": "stream",
          "text": [
            "Policy: adungus/act_all\n",
            "Robot port: /dev/ttyACM1\n",
            "Task: Pick objects and put them in the box\n",
            "Camera type: RealSense\n"
          ]
        }
      ],
      "source": [
        "# Your specific configuration\n",
        "POLICY_REPO_ID = \"adungus/act_all\"  # Your HuggingFace model\n",
        "ROBOT_PORT = \"/dev/ttyACM1\"         # Your robot port\n",
        "TASK_DESCRIPTION = \"Pick objects and put them in the box\"\n",
        "INFERENCE_DURATION = 30.0           # How long to run inference (seconds)\n",
        "FPS = 30                           # Control frequency\n",
        "\n",
        "# Camera configuration - we'll try RealSense first, then fallback to OpenCV\n",
        "USE_REALSENSE = True               # Set to False to use OpenCV camera directly\n",
        "\n",
        "print(f\"Policy: {POLICY_REPO_ID}\")\n",
        "print(f\"Robot port: {ROBOT_PORT}\")\n",
        "print(f\"Task: {TASK_DESCRIPTION}\")\n",
        "print(f\"Camera type: {'RealSense' if USE_REALSENSE else 'OpenCV'}\")\n"
      ]
    },
    {
      "cell_type": "raw",
      "metadata": {
        "vscode": {
          "languageId": "raw"
        }
      },
      "source": [
        "## 3. Set Up Robot and Camera Configuration\n"
      ]
    },
    {
      "cell_type": "code",
      "execution_count": 11,
      "metadata": {},
      "outputs": [
        {
          "name": "stdout",
          "output_type": "stream",
          "text": [
            "❌ Failed to create robot config: name 'rs' is not defined\n",
            "Trying OpenCV fallback...\n",
            "✅ Robot configuration created with OpenCV camera!\n"
          ]
        }
      ],
      "source": [
        "def create_robot_config(robot_port: str, use_realsense: bool = True) -> SO100FollowerConfig:\n",
        "    \"\"\"Create robot configuration with camera setup.\"\"\"\n",
        "    \n",
        "    if use_realsense:\n",
        "        # Try RealSense camera configuration\n",
        "        cameras = {\n",
        "            \"main\": RealSenseCameraConfig(\n",
        "                serial_number_or_name=\"auto\",  # Will use first available RealSense\n",
        "                width=640,\n",
        "                height=480,\n",
        "                fps=30\n",
        "            )\n",
        "        }\n",
        "    else:\n",
        "        # OpenCV camera configuration (fallback)\n",
        "        cameras = {\n",
        "            \"main\": OpenCVCameraConfig(\n",
        "                index_or_path=Path(\"/dev/video0\"),  # Your camera device\n",
        "                width=640,\n",
        "                height=480,\n",
        "                fps=30\n",
        "            )\n",
        "        }\n",
        "    \n",
        "    return SO100FollowerConfig(\n",
        "        port=robot_port,\n",
        "        id=\"inference_robot\",\n",
        "        cameras=cameras\n",
        "    )\n",
        "\n",
        "# Create robot configuration\n",
        "try:\n",
        "    robot_config = create_robot_config(ROBOT_PORT, USE_REALSENSE)\n",
        "    robot = SO100Follower(robot_config)\n",
        "    print(\"✅ Robot configuration created!\")\n",
        "    print(f\"Robot type: {robot.name}\")\n",
        "    print(f\"Port: {ROBOT_PORT}\")\n",
        "except Exception as e:\n",
        "    print(f\"❌ Failed to create robot config: {e}\")\n",
        "    if USE_REALSENSE:\n",
        "        print(\"Trying OpenCV fallback...\")\n",
        "        robot_config = create_robot_config(ROBOT_PORT, False)\n",
        "        robot = SO100Follower(robot_config)\n",
        "        print(\"✅ Robot configuration created with OpenCV camera!\")\n"
      ]
    },
    {
      "cell_type": "raw",
      "metadata": {
        "vscode": {
          "languageId": "raw"
        }
      },
      "source": [
        "## 4. Connect to Robot and Load Policy\n"
      ]
    },
    {
      "cell_type": "code",
      "execution_count": 12,
      "metadata": {},
      "outputs": [
        {
          "name": "stdout",
          "output_type": "stream",
          "text": [
            "🤖 Connecting to robot...\n",
            "❌ Failed to connect to robot: \n",
            "Could not connect on port '/dev/ttyACM1'. Make sure you are using the correct port.\n",
            "Try running `python -m lerobot.find_port`\n",
            "\n",
            "Make sure:\n",
            "1. Robot is connected to the correct port\n",
            "2. You have permissions to access the port\n",
            "3. No other process is using the robot\n",
            "\n",
            "🧠 Loading policy from adungus/act_all...\n",
            "Policy type: act\n",
            "❌ Failed to load policy: Either one of a dataset metadata or a sim env must be provided.\n",
            "Make sure:\n",
            "1. You have internet connection\n",
            "2. The repository ID is correct\n",
            "3. You have access to the repository (if private)\n"
          ]
        }
      ],
      "source": [
        "# Connect to robot\n",
        "try:\n",
        "    print(\"🤖 Connecting to robot...\")\n",
        "    robot.connect()\n",
        "    print(\"✅ Robot connected successfully!\")\n",
        "    print(f\"Robot is connected: {robot.is_connected}\")\n",
        "    \n",
        "    # Get observation and action features\n",
        "    observation_features = robot.observation_features\n",
        "    action_features = robot.action_features\n",
        "    print(f\"📊 Observation features: {list(observation_features.keys())}\")\n",
        "    print(f\"🎮 Action features: {list(action_features.keys())}\")\n",
        "    \n",
        "except Exception as e:\n",
        "    print(f\"❌ Failed to connect to robot: {e}\")\n",
        "    print(\"Make sure:\")\n",
        "    print(\"1. Robot is connected to the correct port\")\n",
        "    print(\"2. You have permissions to access the port\")\n",
        "    print(\"3. No other process is using the robot\")\n",
        "\n",
        "# Load pre-trained policy\n",
        "try:\n",
        "    print(f\"\\n🧠 Loading policy from {POLICY_REPO_ID}...\")\n",
        "    \n",
        "    # Load policy configuration\n",
        "    policy_config = PreTrainedConfig.from_pretrained(POLICY_REPO_ID)\n",
        "    print(f\"Policy type: {policy_config.type}\")\n",
        "    \n",
        "    # Create policy\n",
        "    policy = make_policy(policy_config, ds_meta=None)\n",
        "    \n",
        "    # Get device\n",
        "    device = get_safe_torch_device(policy_config.device if policy_config.device else \"auto\")\n",
        "    print(f\"✅ Policy loaded successfully on device: {device}\")\n",
        "    \n",
        "except Exception as e:\n",
        "    print(f\"❌ Failed to load policy: {e}\")\n",
        "    print(\"Make sure:\")\n",
        "    print(\"1. You have internet connection\")\n",
        "    print(\"2. The repository ID is correct\")\n",
        "    print(\"3. You have access to the repository (if private)\")\n"
      ]
    },
    {
      "cell_type": "raw",
      "metadata": {
        "vscode": {
          "languageId": "raw"
        }
      },
      "source": [
        "## 5. Run Real-Time Inference\n",
        "\n",
        "**⚠️ WARNING: Make sure the robot workspace is clear before running this!**\n"
      ]
    },
    {
      "cell_type": "code",
      "execution_count": null,
      "metadata": {},
      "outputs": [],
      "source": [
        "# Ask for confirmation before starting\n",
        "print(\"⚠️  SAFETY CHECK:\")\n",
        "print(\"1. Is the robot workspace clear?\")\n",
        "print(\"2. Are you ready to stop the robot if needed?\")\n",
        "print(\"3. Is the emergency stop accessible?\")\n",
        "\n",
        "confirmation = input(\"\\nType 'yes' to proceed with inference: \")\n",
        "\n",
        "if confirmation.lower() == 'yes':\n",
        "    print(f\"🚀 Starting inference for {INFERENCE_DURATION}s...\")\n",
        "    print(\"Press 'Interrupt' to stop early if needed!\")\n",
        "    \n",
        "    start_time = time.time()\n",
        "    loop_duration = 1.0 / FPS\n",
        "    step_count = 0\n",
        "    \n",
        "    try:\n",
        "        while time.time() - start_time < INFERENCE_DURATION:\n",
        "            loop_start = time.time()\n",
        "            \n",
        "            # Get current observation\n",
        "            observation = robot.get_observation()\n",
        "            \n",
        "            # Convert to policy format\n",
        "            observation_frame = {}\n",
        "            for key, value in observation.items():\n",
        "                observation_frame[f\"observation.{key}\"] = value\n",
        "            \n",
        "            # Predict action\n",
        "            action_values = predict_action(\n",
        "                observation_frame,\n",
        "                policy,\n",
        "                device,\n",
        "                policy.config.use_amp,\n",
        "                task=TASK_DESCRIPTION,\n",
        "                robot_type=robot.robot_type,\n",
        "            )\n",
        "            \n",
        "            # Convert to robot action format\n",
        "            action = {key: action_values[i].item() for i, key in enumerate(robot.action_features)}\n",
        "            \n",
        "            # Send action to robot\n",
        "            sent_action = robot.send_action(action)\n",
        "            \n",
        "            step_count += 1\n",
        "            \n",
        "            # Show live updates every second\n",
        "            if step_count % FPS == 0:\n",
        "                elapsed = time.time() - start_time\n",
        "                clear_output(wait=True)\n",
        "                print(f\"⏱️  Step {step_count} | Elapsed: {elapsed:.1f}s / {INFERENCE_DURATION}s\")\n",
        "                print(f\"Current action: {action}\")\n",
        "                print(f\"Progress: {elapsed/INFERENCE_DURATION*100:.1f}%\")\n",
        "                \n",
        "                # Show progress bar\n",
        "                progress = int(elapsed / INFERENCE_DURATION * 30)\n",
        "                bar = \"█\" * progress + \"░\" * (30 - progress)\n",
        "                print(f\"[{bar}]\")\n",
        "            \n",
        "            # Maintain control frequency\n",
        "            loop_time = time.time() - loop_start\n",
        "            if loop_time < loop_duration:\n",
        "                time.sleep(loop_duration - loop_time)\n",
        "    \n",
        "    except KeyboardInterrupt:\n",
        "        print(\"\\n🛑 Inference interrupted by user\")\n",
        "    \n",
        "    except Exception as e:\n",
        "        print(f\"\\n❌ Error during inference: {e}\")\n",
        "        import traceback\n",
        "        traceback.print_exc()\n",
        "    \n",
        "    finally:\n",
        "        elapsed = time.time() - start_time\n",
        "        print(f\"\\n✅ Inference completed!\")\n",
        "        print(f\"Total time: {elapsed:.1f}s\")\n",
        "        print(f\"Total steps: {step_count}\")\n",
        "        print(f\"Average FPS: {step_count/elapsed:.1f}\")\n",
        "\n",
        "else:\n",
        "    print(\"❌ Inference cancelled by user\")\n"
      ]
    },
    {
      "cell_type": "raw",
      "metadata": {
        "vscode": {
          "languageId": "raw"
        }
      },
      "source": [
        "## 6. Cleanup and Disconnect\n"
      ]
    },
    {
      "cell_type": "code",
      "execution_count": null,
      "metadata": {},
      "outputs": [],
      "source": [
        "try:\n",
        "    print(\"🧹 Cleaning up...\")\n",
        "    \n",
        "    if robot.is_connected:\n",
        "        robot.disconnect()\n",
        "        print(\"✅ Robot disconnected successfully\")\n",
        "    else:\n",
        "        print(\"ℹ️  Robot was already disconnected\")\n",
        "    \n",
        "    print(\"✅ Cleanup complete!\")\n",
        "    \n",
        "except Exception as e:\n",
        "    print(f\"⚠️  Error during cleanup: {e}\")\n",
        "\n",
        "print(\"\\n🎉 Real-world inference session completed!\")\n",
        "print(\"\\n### Next Steps:\")\n",
        "print(\"1. **Adjust parameters**: Modify INFERENCE_DURATION, FPS, or camera settings\")\n",
        "print(\"2. **Try different tasks**: Change TASK_DESCRIPTION to test different behaviors\")\n",
        "print(\"3. **Analyze performance**: Review the action outputs and robot behavior\")\n",
        "print(\"4. **Record data**: Use the record command to collect more training data\")\n"
      ]
    }
  ],
  "metadata": {
    "kernelspec": {
      "display_name": "lerobot",
      "language": "python",
      "name": "python3"
    },
    "language_info": {
      "codemirror_mode": {
        "name": "ipython",
        "version": 3
      },
      "file_extension": ".py",
      "mimetype": "text/x-python",
      "name": "python",
      "nbconvert_exporter": "python",
      "pygments_lexer": "ipython3",
      "version": "3.10.18"
    }
  },
  "nbformat": 4,
  "nbformat_minor": 2
}
